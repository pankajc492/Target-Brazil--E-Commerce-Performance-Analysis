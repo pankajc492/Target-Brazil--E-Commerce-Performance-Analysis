{
 "cells": [
  {
   "cell_type": "markdown",
   "id": "1d11e296",
   "metadata": {},
   "source": [
    "# Target SQL Business Case Analysis\n",
    "This notebook explores e-commerce order data from Target, Brazil."
   ]
  },
  {
   "cell_type": "markdown",
   "id": "e6ff0a18",
   "metadata": {},
   "source": [
    "## 📁 Dataset Overview\n",
    "- 100K orders from 2016–2018\n",
    "- 8 tables: orders, order_items, customers, payments, products, sellers, reviews, geolocation"
   ]
  },
  {
   "cell_type": "markdown",
   "id": "c4157a04",
   "metadata": {},
   "source": [
    "## 🔍 Basic Data Exploration"
   ]
  },
  {
   "cell_type": "code",
   "execution_count": null,
   "id": "1dcf6488",
   "metadata": {},
   "outputs": [],
   "source": [
    "\n",
    "-- Data types from customers table\n",
    "SELECT column_name, data_type \n",
    "FROM `zeta-infusion-427205-k4.Target.INFORMATION_SCHEMA.COLUMNS` \n",
    "WHERE table_name = 'customers';\n"
   ]
  },
  {
   "cell_type": "code",
   "execution_count": null,
   "id": "850b361a",
   "metadata": {},
   "outputs": [],
   "source": [
    "\n",
    "-- Order date range\n",
    "SELECT MIN(order_purchase_timestamp) AS start_date, MAX(order_purchase_timestamp) AS end_date \n",
    "FROM `zeta-infusion-427205-k4.Target.orders`;\n"
   ]
  },
  {
   "cell_type": "code",
   "execution_count": null,
   "id": "e7cfcac7",
   "metadata": {},
   "outputs": [],
   "source": [
    "\n",
    "-- Count of customers by city and state\n",
    "SELECT COUNT(DISTINCT o.customer_id) AS order_count, c.customer_state, c.customer_city \n",
    "FROM `zeta-infusion-427205-k4.Target.customers` c\n",
    "JOIN `zeta-infusion-427205-k4.Target.orders` o ON c.customer_id = o.customer_id\n",
    "GROUP BY c.customer_state, c.customer_city\n",
    "ORDER BY order_count DESC;\n"
   ]
  },
  {
   "cell_type": "markdown",
   "id": "d0645fb0",
   "metadata": {},
   "source": [
    "## 📈 Trend & Seasonality Analysis"
   ]
  },
  {
   "cell_type": "code",
   "execution_count": null,
   "id": "9e87bd9e",
   "metadata": {},
   "outputs": [],
   "source": [
    "\n",
    "-- Yearly and monthly order trends\n",
    "SELECT EXTRACT(YEAR FROM o.order_purchase_timestamp) AS year,\n",
    "       EXTRACT(MONTH FROM o.order_purchase_timestamp) AS month,\n",
    "       COUNT(DISTINCT o.order_id) AS order_count\n",
    "FROM `zeta-infusion-427205-k4.Target.orders` o\n",
    "JOIN `zeta-infusion-427205-k4.Target.customers` c ON o.customer_id = c.customer_id\n",
    "GROUP BY year, month\n",
    "ORDER BY year, month;\n"
   ]
  },
  {
   "cell_type": "code",
   "execution_count": null,
   "id": "1eecf830",
   "metadata": {},
   "outputs": [],
   "source": [
    "\n",
    "-- Monthly seasonality\n",
    "SELECT EXTRACT(MONTH FROM order_purchase_timestamp) AS month,\n",
    "       COUNT(DISTINCT order_id) AS order_count\n",
    "FROM `zeta-infusion-427205-k4.Target.orders`\n",
    "GROUP BY month\n",
    "ORDER BY month;\n"
   ]
  },
  {
   "cell_type": "code",
   "execution_count": null,
   "id": "21e1501b",
   "metadata": {},
   "outputs": [],
   "source": [
    "\n",
    "-- Time-of-day order distribution\n",
    "SELECT CASE \n",
    "         WHEN EXTRACT(HOUR FROM order_purchase_timestamp) BETWEEN 0 AND 6 THEN 'Dawn'\n",
    "         WHEN EXTRACT(HOUR FROM order_purchase_timestamp) BETWEEN 7 AND 12 THEN 'Morning'\n",
    "         WHEN EXTRACT(HOUR FROM order_purchase_timestamp) BETWEEN 13 AND 18 THEN 'Afternoon'\n",
    "         ELSE 'Night'\n",
    "       END AS period,\n",
    "       COUNT(order_id) AS order_count\n",
    "FROM `zeta-infusion-427205-k4.Target.orders`\n",
    "GROUP BY period\n",
    "ORDER BY order_count DESC;\n"
   ]
  },
  {
   "cell_type": "markdown",
   "id": "bbd4c0b3",
   "metadata": {},
   "source": [
    "## 🚚 Delivery Time & Freight Analysis"
   ]
  },
  {
   "cell_type": "code",
   "execution_count": null,
   "id": "f281b85e",
   "metadata": {},
   "outputs": [],
   "source": [
    "\n",
    "-- Average delivery time by state\n",
    "SELECT c.customer_state,\n",
    "       ROUND(AVG(DATE_DIFF(order_delivered_customer_date, order_purchase_timestamp, DAY)), 2) AS avg_delivery_days\n",
    "FROM `zeta-infusion-427205-k4.Target.orders` o\n",
    "JOIN `zeta-infusion-427205-k4.Target.customers` c ON o.customer_id = c.customer_id\n",
    "WHERE order_delivered_customer_date IS NOT NULL\n",
    "GROUP BY c.customer_state\n",
    "ORDER BY avg_delivery_days DESC;\n"
   ]
  },
  {
   "cell_type": "code",
   "execution_count": null,
   "id": "fe1f192c",
   "metadata": {},
   "outputs": [],
   "source": [
    "\n",
    "-- Fastest vs slowest delivery states (compared to estimated)\n",
    "SELECT c.customer_state,\n",
    "       ROUND(AVG(DATE_DIFF(order_estimated_delivery_date, order_delivered_customer_date, DAY)), 2) AS early_delivery_days\n",
    "FROM `zeta-infusion-427205-k4.Target.orders` o\n",
    "JOIN `zeta-infusion-427205-k4.Target.customers` c ON o.customer_id = c.customer_id\n",
    "GROUP BY c.customer_state\n",
    "ORDER BY early_delivery_days ASC\n",
    "LIMIT 5;\n"
   ]
  },
  {
   "cell_type": "markdown",
   "id": "8240615d",
   "metadata": {},
   "source": [
    "## 💳 Payment Behavior"
   ]
  },
  {
   "cell_type": "code",
   "execution_count": null,
   "id": "b958ef89",
   "metadata": {},
   "outputs": [],
   "source": [
    "\n",
    "-- Orders by payment type monthly\n",
    "SELECT p.payment_type,\n",
    "       EXTRACT(MONTH FROM o.order_purchase_timestamp) AS month,\n",
    "       COUNT(DISTINCT o.order_id) AS order_count\n",
    "FROM `zeta-infusion-427205-k4.Target.orders` o\n",
    "JOIN `zeta-infusion-427205-k4.Target.payments` p ON o.order_id = p.order_id\n",
    "GROUP BY p.payment_type, month\n",
    "ORDER BY p.payment_type, month;\n"
   ]
  },
  {
   "cell_type": "code",
   "execution_count": null,
   "id": "b1fdc935",
   "metadata": {},
   "outputs": [],
   "source": [
    "\n",
    "-- Orders by number of installments\n",
    "SELECT p.payment_installments,\n",
    "       COUNT(DISTINCT o.order_id) AS order_count\n",
    "FROM `zeta-infusion-427205-k4.Target.orders` o\n",
    "JOIN `zeta-infusion-427205-k4.Target.payments` p ON o.order_id = p.order_id\n",
    "WHERE o.order_status <> 'canceled'\n",
    "GROUP BY p.payment_installments\n",
    "ORDER BY order_count DESC;\n"
   ]
  },
  {
   "cell_type": "markdown",
   "id": "73072bf5",
   "metadata": {},
   "source": [
    "## 🌟 Review Scores & Customer Insights"
   ]
  },
  {
   "cell_type": "code",
   "execution_count": null,
   "id": "a5005cf6",
   "metadata": {},
   "outputs": [],
   "source": [
    "\n",
    "-- Review scores by state (pivot style)\n",
    "SELECT * \n",
    "FROM (\n",
    "  SELECT c.customer_state, orv.review_score \n",
    "  FROM `target.order_reviews` orv \n",
    "  JOIN `target.orders` o USING(order_id) \n",
    "  JOIN `target.customers` c USING(customer_id)\n",
    ") \n",
    "PIVOT(COUNT(*) FOR review_score IN (1, 2, 3, 4, 5));\n"
   ]
  },
  {
   "cell_type": "markdown",
   "id": "e0b44ca8",
   "metadata": {},
   "source": [
    "## 📌 Actionable Insights & Recommendations"
   ]
  },
  {
   "cell_type": "markdown",
   "id": "f3ffaa6c",
   "metadata": {},
   "source": [
    "\n",
    "- ~1.2% of orders were canceled or unavailable – needs investigation.\n",
    "- Peak shopping times: **Afternoon & Night** – adjust workforce shifts.\n",
    "- **3 states dominate** order volume – growth opportunity in others.\n",
    "- Delivery time is a possible barrier in low-order regions – optimize logistics.\n",
    "- Negative reviews are clustered in specific states – analyze service quality.\n"
   ]
  }
 ],
 "metadata": {},
 "nbformat": 4,
 "nbformat_minor": 5
}